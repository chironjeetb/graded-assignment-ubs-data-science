{
  "metadata": {
    "kernelspec": {
      "name": "python",
      "display_name": "Python (Pyodide)",
      "language": "python"
    },
    "language_info": {
      "codemirror_mode": {
        "name": "python",
        "version": 3
      },
      "file_extension": ".py",
      "mimetype": "text/x-python",
      "name": "python",
      "nbconvert_exporter": "python",
      "pygments_lexer": "ipython3",
      "version": "3.8"
    }
  },
  "nbformat_minor": 4,
  "nbformat": 4,
  "cells": [
    {
      "cell_type": "markdown",
      "source": "<p style=\"text-align:center\">\n    <a href=\"https://skills.network/?utm_medium=Exinfluencer&utm_source=Exinfluencer&utm_content=000026UJ&utm_term=10006555&utm_id=NA-SkillsNetwork-Channel-SkillsNetworkCoursesIBMDeveloperSkillsNetworkST0151ENSkillsNetwork20531532-2022-01-01\" target=\"_blank\">\n    <img src=\"https://cf-courses-data.s3.us.cloud-object-storage.appdomain.cloud/assets/logos/SN_web_lightmode.png\" width=\"200\" alt=\"Skills Network Logo\"  />\n    </a>\n</p>\n\n",
      "metadata": {}
    },
    {
      "cell_type": "markdown",
      "source": "#### Import the required libraries we need for the lab.\n",
      "metadata": {}
    },
    {
      "cell_type": "code",
      "source": "import piplite\nawait piplite.install(['numpy'],['pandas'])\nawait piplite.install(['seaborn'])",
      "metadata": {},
      "outputs": [],
      "execution_count": null
    },
    {
      "cell_type": "code",
      "source": "import pandas as pd\nimport pandas as pd\nimport seaborn as sns\nimport matplotlib.pyplot as pyplot\nimport scipy.stats\nimport statsmodels.api as sm\nfrom statsmodels.formula.api import ols",
      "metadata": {},
      "outputs": [],
      "execution_count": null
    },
    {
      "cell_type": "markdown",
      "source": "#### Read the dataset in the csv file from the URL\n",
      "metadata": {}
    },
    {
      "cell_type": "code",
      "source": "from js import fetch\nimport io\n\nURL = 'https://cf-courses-data.s3.us.cloud-object-storage.appdomain.cloud/IBMDeveloperSkillsNetwork-ST0151EN-SkillsNetwork/labs/boston_housing.csv'\nresp = await fetch(URL)\nboston_url = io.BytesIO((await resp.arrayBuffer()).to_py())",
      "metadata": {},
      "outputs": [],
      "execution_count": null
    },
    {
      "cell_type": "code",
      "source": "boston_df=pd.read_csv(boston_url)\nboston_df.head()",
      "metadata": {
        "trusted": true
      },
      "outputs": [],
      "execution_count": null
    },
    {
      "cell_type": "markdown",
      "source": "#### Add your code below following the instructions given in the course to complete the peer graded assignment\n",
      "metadata": {}
    },
    {
      "cell_type": "code",
      "source": "box1= sns.boxplot(x='MEDV',data=boston_df)\nbox1.set_xlabel(\"Median Value of Owner-Occupied Homes (in tens of thousands)\")\nbox1.set_title(\"Median Value of Homes\")",
      "metadata": {
        "trusted": true
      },
      "outputs": [],
      "execution_count": null
    },
    {
      "cell_type": "code",
      "source": "boston_df.loc[boston_df[\"AGE\"]<=35,'AgeGroup']='35 years and below'\nboston_df.loc[(boston_df[\"AGE\"]>35) & (boston_df[\"AGE\"]<70),'AgeGroup']='Between 35 and 70 years'\nboston_df.loc[boston_df[\"AGE\"]>70,'AgeGroup']='Above 70 years'",
      "metadata": {
        "trusted": true
      },
      "outputs": [],
      "execution_count": null
    },
    {
      "cell_type": "code",
      "source": "box2=sns.boxplot(x=\"MEDV\",y=\"AgeGroup\",data=boston_df)\nbox2.set_xlabel(\"Median Value of Owner-Occupied Homes (in tens of thousands)\")\nbox2.set_ylabel(\"Age Groups\")\nbox2.set_title(\"Median Value of Homes by Number of Years Built Prior to 1940\")",
      "metadata": {
        "trusted": true
      },
      "outputs": [],
      "execution_count": null
    },
    {
      "cell_type": "code",
      "source": "scatter=sns.scatterplot(x=\"INDUS\",y=\"NOX\",data=boston_df)\nscatter.set_ylabel(\"Nitrous Oxide Concentrations\")\nscatter.set_xlabel(\"Proportion of Non-Retail Business Acres Per Town\")\nscatter.set_title(\"Industrial Acres Per Town vs Nitrous Oxide Concentrations\")",
      "metadata": {
        "trusted": true
      },
      "outputs": [],
      "execution_count": null
    },
    {
      "cell_type": "code",
      "source": "hist=sns.histplot(x=\"PTRATIO\",bins=20,data=boston_df)\nhist.set_xlabel(\"Pupil to Teacher Ratio\")\nhist.set_ylabel(\"Number of Houses within PTRATIO\")\nhist.set_title(\"Distribution of Pupil to Teacher Ratio\")",
      "metadata": {
        "trusted": true
      },
      "outputs": [],
      "execution_count": null
    },
    {
      "cell_type": "code",
      "source": "scipy.stats.levene(\n    boston_df[boston_df['CHAS'] == 0]['MEDV'],\n    boston_df[boston_df['CHAS'] == 1]['MEDV'],\n    center='median'\n)",
      "metadata": {
        "trusted": true
      },
      "outputs": [],
      "execution_count": null
    },
    {
      "cell_type": "code",
      "source": "scipy.stats.ttest_ind(boston_df[boston_df['CHAS'] == 0]['MEDV'],\n    boston_df[boston_df['CHAS'] == 1]['MEDV'], equal_var=False)",
      "metadata": {
        "trusted": true
      },
      "outputs": [],
      "execution_count": null
    },
    {
      "cell_type": "code",
      "source": "thirtyfive=boston_df[boston_df['AgeGroup']=='35 years and below']['MEDV']\nbetween=boston_df[boston_df['AgeGroup']=='Between 35 and 70 years']['MEDV']\nseventy=boston_df[boston_df['AgeGroup']=='Above 70 years']['MEDV']",
      "metadata": {
        "trusted": true
      },
      "outputs": [],
      "execution_count": null
    },
    {
      "cell_type": "code",
      "source": "\nf_statistic, p_value = scipy.stats.f_oneway(thirtyfive,between,seventy)\nprint(\"F=Statistic:\",f_statistic,\"P-value:\",p_value)",
      "metadata": {
        "trusted": true
      },
      "outputs": [],
      "execution_count": null
    },
    {
      "cell_type": "code",
      "source": "scipy.stats.pearsonr(boston_df['NOX'], boston_df['INDUS'])",
      "metadata": {
        "trusted": true
      },
      "outputs": [],
      "execution_count": null
    },
    {
      "cell_type": "code",
      "source": "X=boston_df['DIS']\nX=sm.add_constant(X)\nY=boston_df['MEDV']\nlm=sm.OLS(Y,X).fit()\nlm.predict()\nlm.summary()",
      "metadata": {
        "trusted": true
      },
      "outputs": [],
      "execution_count": null
    },
    {
      "cell_type": "code",
      "source": "",
      "metadata": {
        "trusted": true
      },
      "outputs": [],
      "execution_count": null
    }
  ]
}